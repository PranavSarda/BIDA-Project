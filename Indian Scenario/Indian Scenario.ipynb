{
 "cells": [
  {
   "cell_type": "code",
   "execution_count": 1,
   "metadata": {},
   "outputs": [],
   "source": [
    "import numpy as np\n",
    "import pandas as pd\n",
    "import matplotlib.pyplot as plt\n",
    "from textblob import TextBlob\n",
    "import plotly.graph_objects as go"
   ]
  },
  {
   "cell_type": "code",
   "execution_count": null,
   "metadata": {},
   "outputs": [],
   "source": []
  },
  {
   "cell_type": "code",
   "execution_count": 5,
   "metadata": {},
   "outputs": [],
   "source": [
    "bjp = pd.read_excel(\"1.bjp_general.xlsx\")"
   ]
  },
  {
   "cell_type": "code",
   "execution_count": 6,
   "metadata": {},
   "outputs": [],
   "source": [
    "congress = pd.read_excel(\"2.congress_general.xlsx\")"
   ]
  },
  {
   "cell_type": "code",
   "execution_count": 7,
   "metadata": {},
   "outputs": [],
   "source": [
    "dmk = pd.read_excel(\"3.dmk_general.xlsx\")"
   ]
  },
  {
   "cell_type": "code",
   "execution_count": 8,
   "metadata": {},
   "outputs": [],
   "source": [
    "aitmc = pd.read_excel(\"4.aitmc_general.xlsx\")"
   ]
  },
  {
   "cell_type": "code",
   "execution_count": 9,
   "metadata": {},
   "outputs": [],
   "source": [
    "ysrcp = pd.read_excel(\"5.ysrcp_general.xlsx\")"
   ]
  },
  {
   "cell_type": "code",
   "execution_count": 10,
   "metadata": {},
   "outputs": [],
   "source": [
    "shivsena = pd.read_excel(\"6.shivsena_general.xlsx\")"
   ]
  },
  {
   "cell_type": "code",
   "execution_count": 11,
   "metadata": {},
   "outputs": [],
   "source": [
    "jdu = pd.read_excel(\"7.jdu_general.xlsx\")"
   ]
  },
  {
   "cell_type": "code",
   "execution_count": 12,
   "metadata": {},
   "outputs": [],
   "source": [
    "bjd = pd.read_excel(\"8.bjd_general.xlsx\")"
   ]
  },
  {
   "cell_type": "code",
   "execution_count": 13,
   "metadata": {},
   "outputs": [],
   "source": [
    "bsp = pd.read_excel(\"9.bsp_general.xlsx\")"
   ]
  },
  {
   "cell_type": "code",
   "execution_count": 14,
   "metadata": {},
   "outputs": [],
   "source": [
    "trs = pd.read_excel(\"10.trs_general.xlsx\")"
   ]
  },
  {
   "cell_type": "code",
   "execution_count": null,
   "metadata": {},
   "outputs": [],
   "source": []
  },
  {
   "cell_type": "code",
   "execution_count": 15,
   "metadata": {},
   "outputs": [
    {
     "data": {
      "text/html": [
       "<div>\n",
       "<style scoped>\n",
       "    .dataframe tbody tr th:only-of-type {\n",
       "        vertical-align: middle;\n",
       "    }\n",
       "\n",
       "    .dataframe tbody tr th {\n",
       "        vertical-align: top;\n",
       "    }\n",
       "\n",
       "    .dataframe thead th {\n",
       "        text-align: right;\n",
       "    }\n",
       "</style>\n",
       "<table border=\"1\" class=\"dataframe\">\n",
       "  <thead>\n",
       "    <tr style=\"text-align: right;\">\n",
       "      <th></th>\n",
       "      <th>Created-At</th>\n",
       "      <th>From-User</th>\n",
       "      <th>From-User-Id</th>\n",
       "      <th>To-User</th>\n",
       "      <th>To-User-Id</th>\n",
       "      <th>Language</th>\n",
       "      <th>Source</th>\n",
       "      <th>Text</th>\n",
       "      <th>Geo-Location-Latitude</th>\n",
       "      <th>Geo-Location-Longitude</th>\n",
       "      <th>Retweet-Count</th>\n",
       "      <th>Id</th>\n",
       "      <th>polarity(Text)</th>\n",
       "      <th>confidence(Text)</th>\n",
       "      <th>agreement(Text)</th>\n",
       "      <th>subjectivity(Text)</th>\n",
       "      <th>irony(Text)</th>\n",
       "    </tr>\n",
       "  </thead>\n",
       "  <tbody>\n",
       "    <tr>\n",
       "      <td>0</td>\n",
       "      <td>2020-12-06 02:10:36</td>\n",
       "      <td>ANI</td>\n",
       "      <td>355989081</td>\n",
       "      <td>NaN</td>\n",
       "      <td>-1</td>\n",
       "      <td>en</td>\n",
       "      <td>&lt;a href=\"https://mobile.twitter.com\" rel=\"nofo...</td>\n",
       "      <td>I would have still been the chief minister if ...</td>\n",
       "      <td>NaN</td>\n",
       "      <td>NaN</td>\n",
       "      <td>2048</td>\n",
       "      <td>1335323208136810496</td>\n",
       "      <td>NEU</td>\n",
       "      <td>94</td>\n",
       "      <td>DISAGREEMENT</td>\n",
       "      <td>SUBJECTIVE</td>\n",
       "      <td>NONIRONIC</td>\n",
       "    </tr>\n",
       "    <tr>\n",
       "      <td>1</td>\n",
       "      <td>2020-12-04 20:34:25</td>\n",
       "      <td>Amit Shah</td>\n",
       "      <td>1447949844</td>\n",
       "      <td>NaN</td>\n",
       "      <td>-1</td>\n",
       "      <td>en</td>\n",
       "      <td>&lt;a href=\"http://twitter.com/download/iphone\" r...</td>\n",
       "      <td>Gratitude to the people of Telangana for repos...</td>\n",
       "      <td>NaN</td>\n",
       "      <td>NaN</td>\n",
       "      <td>5852</td>\n",
       "      <td>1334876218622050304</td>\n",
       "      <td>P</td>\n",
       "      <td>100</td>\n",
       "      <td>AGREEMENT</td>\n",
       "      <td>OBJECTIVE</td>\n",
       "      <td>NONIRONIC</td>\n",
       "    </tr>\n",
       "    <tr>\n",
       "      <td>2</td>\n",
       "      <td>2020-12-05 13:41:22</td>\n",
       "      <td>BJP</td>\n",
       "      <td>207809313</td>\n",
       "      <td>NaN</td>\n",
       "      <td>-1</td>\n",
       "      <td>en</td>\n",
       "      <td>&lt;a href=\"https://mobile.twitter.com\" rel=\"nofo...</td>\n",
       "      <td>We thank the people of Hyderabad for showing t...</td>\n",
       "      <td>NaN</td>\n",
       "      <td>NaN</td>\n",
       "      <td>973</td>\n",
       "      <td>1335134658187554817</td>\n",
       "      <td>P</td>\n",
       "      <td>100</td>\n",
       "      <td>AGREEMENT</td>\n",
       "      <td>SUBJECTIVE</td>\n",
       "      <td>NONIRONIC</td>\n",
       "    </tr>\n",
       "    <tr>\n",
       "      <td>3</td>\n",
       "      <td>2020-12-06 16:21:48</td>\n",
       "      <td>RAJAN</td>\n",
       "      <td>158374641</td>\n",
       "      <td>MulkaPraveen</td>\n",
       "      <td>1246129977000513538</td>\n",
       "      <td>en</td>\n",
       "      <td>&lt;a href=\"https://mobile.twitter.com\" rel=\"nofo...</td>\n",
       "      <td>@MulkaPraveen @bandisanjay_bjp @narendramodi @...</td>\n",
       "      <td>NaN</td>\n",
       "      <td>NaN</td>\n",
       "      <td>0</td>\n",
       "      <td>1335537421178454016</td>\n",
       "      <td>NONE</td>\n",
       "      <td>100</td>\n",
       "      <td>AGREEMENT</td>\n",
       "      <td>OBJECTIVE</td>\n",
       "      <td>NONIRONIC</td>\n",
       "    </tr>\n",
       "    <tr>\n",
       "      <td>4</td>\n",
       "      <td>2020-12-06 16:21:43</td>\n",
       "      <td>Kanoon Sangrah</td>\n",
       "      <td>1229737514283307008</td>\n",
       "      <td>NaN</td>\n",
       "      <td>-1</td>\n",
       "      <td>en</td>\n",
       "      <td>&lt;a href=\"http://twitter.com/download/android\" ...</td>\n",
       "      <td>Actor Vijayashanthi quits Congress, to join BJ...</td>\n",
       "      <td>NaN</td>\n",
       "      <td>NaN</td>\n",
       "      <td>0</td>\n",
       "      <td>1335537398206222344</td>\n",
       "      <td>P</td>\n",
       "      <td>100</td>\n",
       "      <td>AGREEMENT</td>\n",
       "      <td>OBJECTIVE</td>\n",
       "      <td>NONIRONIC</td>\n",
       "    </tr>\n",
       "  </tbody>\n",
       "</table>\n",
       "</div>"
      ],
      "text/plain": [
       "           Created-At       From-User         From-User-Id       To-User  \\\n",
       "0 2020-12-06 02:10:36             ANI            355989081           NaN   \n",
       "1 2020-12-04 20:34:25       Amit Shah           1447949844           NaN   \n",
       "2 2020-12-05 13:41:22             BJP            207809313           NaN   \n",
       "3 2020-12-06 16:21:48           RAJAN            158374641  MulkaPraveen   \n",
       "4 2020-12-06 16:21:43  Kanoon Sangrah  1229737514283307008           NaN   \n",
       "\n",
       "            To-User-Id Language  \\\n",
       "0                   -1       en   \n",
       "1                   -1       en   \n",
       "2                   -1       en   \n",
       "3  1246129977000513538       en   \n",
       "4                   -1       en   \n",
       "\n",
       "                                              Source  \\\n",
       "0  <a href=\"https://mobile.twitter.com\" rel=\"nofo...   \n",
       "1  <a href=\"http://twitter.com/download/iphone\" r...   \n",
       "2  <a href=\"https://mobile.twitter.com\" rel=\"nofo...   \n",
       "3  <a href=\"https://mobile.twitter.com\" rel=\"nofo...   \n",
       "4  <a href=\"http://twitter.com/download/android\" ...   \n",
       "\n",
       "                                                Text  Geo-Location-Latitude  \\\n",
       "0  I would have still been the chief minister if ...                    NaN   \n",
       "1  Gratitude to the people of Telangana for repos...                    NaN   \n",
       "2  We thank the people of Hyderabad for showing t...                    NaN   \n",
       "3  @MulkaPraveen @bandisanjay_bjp @narendramodi @...                    NaN   \n",
       "4  Actor Vijayashanthi quits Congress, to join BJ...                    NaN   \n",
       "\n",
       "   Geo-Location-Longitude  Retweet-Count                   Id polarity(Text)  \\\n",
       "0                     NaN           2048  1335323208136810496            NEU   \n",
       "1                     NaN           5852  1334876218622050304              P   \n",
       "2                     NaN            973  1335134658187554817              P   \n",
       "3                     NaN              0  1335537421178454016           NONE   \n",
       "4                     NaN              0  1335537398206222344              P   \n",
       "\n",
       "   confidence(Text) agreement(Text) subjectivity(Text) irony(Text)  \n",
       "0                94    DISAGREEMENT         SUBJECTIVE   NONIRONIC  \n",
       "1               100       AGREEMENT          OBJECTIVE   NONIRONIC  \n",
       "2               100       AGREEMENT         SUBJECTIVE   NONIRONIC  \n",
       "3               100       AGREEMENT          OBJECTIVE   NONIRONIC  \n",
       "4               100       AGREEMENT          OBJECTIVE   NONIRONIC  "
      ]
     },
     "execution_count": 15,
     "metadata": {},
     "output_type": "execute_result"
    }
   ],
   "source": [
    "bjp.head()"
   ]
  },
  {
   "cell_type": "code",
   "execution_count": null,
   "metadata": {},
   "outputs": [],
   "source": []
  },
  {
   "cell_type": "code",
   "execution_count": 5,
   "metadata": {},
   "outputs": [],
   "source": [
    "bjp = bjp.drop(columns = ['From-User-Id','To-User','To-User-Id','Geo-Location-Latitude','Geo-Location-Longitude','Id'])"
   ]
  },
  {
   "cell_type": "code",
   "execution_count": 6,
   "metadata": {},
   "outputs": [],
   "source": [
    "congress = congress.drop(columns = ['From-User-Id','To-User','To-User-Id','Geo-Location-Latitude','Geo-Location-Longitude','Id'])"
   ]
  },
  {
   "cell_type": "code",
   "execution_count": 7,
   "metadata": {},
   "outputs": [],
   "source": [
    "dmk = dmk.drop(columns = ['From-User-Id','To-User','To-User-Id','Geo-Location-Latitude','Geo-Location-Longitude','Id'])"
   ]
  },
  {
   "cell_type": "code",
   "execution_count": 16,
   "metadata": {},
   "outputs": [],
   "source": [
    "aitmc = aitmc.drop(columns = ['From-User-Id','To-User','To-User-Id','Geo-Location-Latitude','Geo-Location-Longitude','Id'])"
   ]
  },
  {
   "cell_type": "code",
   "execution_count": 17,
   "metadata": {},
   "outputs": [],
   "source": [
    "ysrcp = ysrcp.drop(columns = ['From-User-Id','To-User','To-User-Id','Geo-Location-Latitude','Geo-Location-Longitude','Id'])"
   ]
  },
  {
   "cell_type": "code",
   "execution_count": 18,
   "metadata": {},
   "outputs": [],
   "source": [
    "shivsena = shivsena.drop(columns = ['From-User-Id','To-User','To-User-Id','Geo-Location-Latitude','Geo-Location-Longitude','Id'])"
   ]
  },
  {
   "cell_type": "code",
   "execution_count": 19,
   "metadata": {},
   "outputs": [],
   "source": [
    "jdu = jdu.drop(columns = ['From-User-Id','To-User','To-User-Id','Geo-Location-Latitude','Geo-Location-Longitude','Id'])"
   ]
  },
  {
   "cell_type": "code",
   "execution_count": 20,
   "metadata": {},
   "outputs": [],
   "source": [
    "bjd = bjd.drop(columns = ['From-User-Id','To-User','To-User-Id','Geo-Location-Latitude','Geo-Location-Longitude','Id'])"
   ]
  },
  {
   "cell_type": "code",
   "execution_count": 21,
   "metadata": {},
   "outputs": [],
   "source": [
    "bsp = bsp.drop(columns = ['From-User-Id','To-User','To-User-Id','Geo-Location-Latitude','Geo-Location-Longitude','Id'])"
   ]
  },
  {
   "cell_type": "code",
   "execution_count": 22,
   "metadata": {},
   "outputs": [],
   "source": [
    "dmk = dmk.drop(columns = ['From-User-Id','To-User','To-User-Id','Geo-Location-Latitude','Geo-Location-Longitude','Id'])"
   ]
  },
  {
   "cell_type": "code",
   "execution_count": null,
   "metadata": {},
   "outputs": [],
   "source": []
  },
  {
   "cell_type": "code",
   "execution_count": 23,
   "metadata": {},
   "outputs": [],
   "source": [
    "bjp.loc[:,'candidate'] = 'bjp'\n",
    "congress.loc[:,'candidate'] = 'congress'\n",
    "dmk.loc[:,'candidate'] = 'dmk'\n",
    "aitmc.loc[:,'candidate'] = 'aitmc'\n",
    "ysrcp.loc[:,'candidate'] = 'ysrcp'\n",
    "shivsena.loc[:,'candidate'] = 'shivsena'\n",
    "jdu.loc[:,'candidate'] = 'jdu'\n",
    "bjd.loc[:,'candidate'] = 'bjd'\n",
    "bsp.loc[:,'candidate'] = 'bsp'\n",
    "trs.loc[:,'candidate'] = 'trs'"
   ]
  },
  {
   "cell_type": "code",
   "execution_count": 26,
   "metadata": {},
   "outputs": [
    {
     "data": {
      "text/html": [
       "<div>\n",
       "<style scoped>\n",
       "    .dataframe tbody tr th:only-of-type {\n",
       "        vertical-align: middle;\n",
       "    }\n",
       "\n",
       "    .dataframe tbody tr th {\n",
       "        vertical-align: top;\n",
       "    }\n",
       "\n",
       "    .dataframe thead th {\n",
       "        text-align: right;\n",
       "    }\n",
       "</style>\n",
       "<table border=\"1\" class=\"dataframe\">\n",
       "  <thead>\n",
       "    <tr style=\"text-align: right;\">\n",
       "      <th></th>\n",
       "      <th>Created-At</th>\n",
       "      <th>From-User</th>\n",
       "      <th>From-User-Id</th>\n",
       "      <th>Geo-Location-Latitude</th>\n",
       "      <th>Geo-Location-Longitude</th>\n",
       "      <th>Id</th>\n",
       "      <th>Language</th>\n",
       "      <th>Retweet-Count</th>\n",
       "      <th>Source</th>\n",
       "      <th>Text</th>\n",
       "      <th>To-User</th>\n",
       "      <th>To-User-Id</th>\n",
       "      <th>agreement(Text)</th>\n",
       "      <th>candidate</th>\n",
       "      <th>confidence(Text)</th>\n",
       "      <th>irony(Text)</th>\n",
       "      <th>polarity(Text)</th>\n",
       "      <th>subjectivity(Text)</th>\n",
       "    </tr>\n",
       "  </thead>\n",
       "  <tbody>\n",
       "    <tr>\n",
       "      <td>0</td>\n",
       "      <td>2020-12-06 02:10:36</td>\n",
       "      <td>ANI</td>\n",
       "      <td>3.559891e+08</td>\n",
       "      <td>NaN</td>\n",
       "      <td>NaN</td>\n",
       "      <td>1.335323e+18</td>\n",
       "      <td>en</td>\n",
       "      <td>2048</td>\n",
       "      <td>&lt;a href=\"https://mobile.twitter.com\" rel=\"nofo...</td>\n",
       "      <td>I would have still been the chief minister if ...</td>\n",
       "      <td>NaN</td>\n",
       "      <td>-1.000000e+00</td>\n",
       "      <td>DISAGREEMENT</td>\n",
       "      <td>bjp</td>\n",
       "      <td>94</td>\n",
       "      <td>NONIRONIC</td>\n",
       "      <td>NEU</td>\n",
       "      <td>SUBJECTIVE</td>\n",
       "    </tr>\n",
       "    <tr>\n",
       "      <td>1</td>\n",
       "      <td>2020-12-04 20:34:25</td>\n",
       "      <td>Amit Shah</td>\n",
       "      <td>1.447950e+09</td>\n",
       "      <td>NaN</td>\n",
       "      <td>NaN</td>\n",
       "      <td>1.334876e+18</td>\n",
       "      <td>en</td>\n",
       "      <td>5852</td>\n",
       "      <td>&lt;a href=\"http://twitter.com/download/iphone\" r...</td>\n",
       "      <td>Gratitude to the people of Telangana for repos...</td>\n",
       "      <td>NaN</td>\n",
       "      <td>-1.000000e+00</td>\n",
       "      <td>AGREEMENT</td>\n",
       "      <td>bjp</td>\n",
       "      <td>100</td>\n",
       "      <td>NONIRONIC</td>\n",
       "      <td>P</td>\n",
       "      <td>OBJECTIVE</td>\n",
       "    </tr>\n",
       "    <tr>\n",
       "      <td>2</td>\n",
       "      <td>2020-12-05 13:41:22</td>\n",
       "      <td>BJP</td>\n",
       "      <td>2.078093e+08</td>\n",
       "      <td>NaN</td>\n",
       "      <td>NaN</td>\n",
       "      <td>1.335135e+18</td>\n",
       "      <td>en</td>\n",
       "      <td>973</td>\n",
       "      <td>&lt;a href=\"https://mobile.twitter.com\" rel=\"nofo...</td>\n",
       "      <td>We thank the people of Hyderabad for showing t...</td>\n",
       "      <td>NaN</td>\n",
       "      <td>-1.000000e+00</td>\n",
       "      <td>AGREEMENT</td>\n",
       "      <td>bjp</td>\n",
       "      <td>100</td>\n",
       "      <td>NONIRONIC</td>\n",
       "      <td>P</td>\n",
       "      <td>SUBJECTIVE</td>\n",
       "    </tr>\n",
       "    <tr>\n",
       "      <td>3</td>\n",
       "      <td>2020-12-06 16:21:48</td>\n",
       "      <td>RAJAN</td>\n",
       "      <td>1.583746e+08</td>\n",
       "      <td>NaN</td>\n",
       "      <td>NaN</td>\n",
       "      <td>1.335537e+18</td>\n",
       "      <td>en</td>\n",
       "      <td>0</td>\n",
       "      <td>&lt;a href=\"https://mobile.twitter.com\" rel=\"nofo...</td>\n",
       "      <td>@MulkaPraveen @bandisanjay_bjp @narendramodi @...</td>\n",
       "      <td>MulkaPraveen</td>\n",
       "      <td>1.246130e+18</td>\n",
       "      <td>AGREEMENT</td>\n",
       "      <td>bjp</td>\n",
       "      <td>100</td>\n",
       "      <td>NONIRONIC</td>\n",
       "      <td>NONE</td>\n",
       "      <td>OBJECTIVE</td>\n",
       "    </tr>\n",
       "    <tr>\n",
       "      <td>4</td>\n",
       "      <td>2020-12-06 16:21:43</td>\n",
       "      <td>Kanoon Sangrah</td>\n",
       "      <td>1.229738e+18</td>\n",
       "      <td>NaN</td>\n",
       "      <td>NaN</td>\n",
       "      <td>1.335537e+18</td>\n",
       "      <td>en</td>\n",
       "      <td>0</td>\n",
       "      <td>&lt;a href=\"http://twitter.com/download/android\" ...</td>\n",
       "      <td>Actor Vijayashanthi quits Congress, to join BJ...</td>\n",
       "      <td>NaN</td>\n",
       "      <td>-1.000000e+00</td>\n",
       "      <td>AGREEMENT</td>\n",
       "      <td>bjp</td>\n",
       "      <td>100</td>\n",
       "      <td>NONIRONIC</td>\n",
       "      <td>P</td>\n",
       "      <td>OBJECTIVE</td>\n",
       "    </tr>\n",
       "  </tbody>\n",
       "</table>\n",
       "</div>"
      ],
      "text/plain": [
       "           Created-At       From-User  From-User-Id  Geo-Location-Latitude  \\\n",
       "0 2020-12-06 02:10:36             ANI  3.559891e+08                    NaN   \n",
       "1 2020-12-04 20:34:25       Amit Shah  1.447950e+09                    NaN   \n",
       "2 2020-12-05 13:41:22             BJP  2.078093e+08                    NaN   \n",
       "3 2020-12-06 16:21:48           RAJAN  1.583746e+08                    NaN   \n",
       "4 2020-12-06 16:21:43  Kanoon Sangrah  1.229738e+18                    NaN   \n",
       "\n",
       "   Geo-Location-Longitude            Id Language  Retweet-Count  \\\n",
       "0                     NaN  1.335323e+18       en           2048   \n",
       "1                     NaN  1.334876e+18       en           5852   \n",
       "2                     NaN  1.335135e+18       en            973   \n",
       "3                     NaN  1.335537e+18       en              0   \n",
       "4                     NaN  1.335537e+18       en              0   \n",
       "\n",
       "                                              Source  \\\n",
       "0  <a href=\"https://mobile.twitter.com\" rel=\"nofo...   \n",
       "1  <a href=\"http://twitter.com/download/iphone\" r...   \n",
       "2  <a href=\"https://mobile.twitter.com\" rel=\"nofo...   \n",
       "3  <a href=\"https://mobile.twitter.com\" rel=\"nofo...   \n",
       "4  <a href=\"http://twitter.com/download/android\" ...   \n",
       "\n",
       "                                                Text       To-User  \\\n",
       "0  I would have still been the chief minister if ...           NaN   \n",
       "1  Gratitude to the people of Telangana for repos...           NaN   \n",
       "2  We thank the people of Hyderabad for showing t...           NaN   \n",
       "3  @MulkaPraveen @bandisanjay_bjp @narendramodi @...  MulkaPraveen   \n",
       "4  Actor Vijayashanthi quits Congress, to join BJ...           NaN   \n",
       "\n",
       "     To-User-Id agreement(Text) candidate  confidence(Text) irony(Text)  \\\n",
       "0 -1.000000e+00    DISAGREEMENT       bjp                94   NONIRONIC   \n",
       "1 -1.000000e+00       AGREEMENT       bjp               100   NONIRONIC   \n",
       "2 -1.000000e+00       AGREEMENT       bjp               100   NONIRONIC   \n",
       "3  1.246130e+18       AGREEMENT       bjp               100   NONIRONIC   \n",
       "4 -1.000000e+00       AGREEMENT       bjp               100   NONIRONIC   \n",
       "\n",
       "  polarity(Text) subjectivity(Text)  \n",
       "0            NEU         SUBJECTIVE  \n",
       "1              P          OBJECTIVE  \n",
       "2              P         SUBJECTIVE  \n",
       "3           NONE          OBJECTIVE  \n",
       "4              P          OBJECTIVE  "
      ]
     },
     "execution_count": 26,
     "metadata": {},
     "output_type": "execute_result"
    }
   ],
   "source": [
    "Data_Mixed = pd.concat([bjp, congress, dmk, aitmc, ysrcp, shivsena, jdu, bjd, bsp, trs], sort=True)\n",
    "Data_Mixed.sort_values(by='Created-At')\n",
    "Data_Mixed.head()"
   ]
  },
  {
   "cell_type": "code",
   "execution_count": 34,
   "metadata": {},
   "outputs": [
    {
     "data": {
      "image/png": "[encoded data removed]",
      "text/plain": [
       "<Figure size 432x288 with 1 Axes>"
      ]
     },
     "metadata": {
      "needs_background": "light"
     },
     "output_type": "display_data"
    }
   ],
   "source": [
    "cnt1 = Data_Mixed.query('(candidate == \"bjp\")').Text.count()\n",
    "cnt2 = Data_Mixed.query('(candidate == \"congress\")').Text.count()\n",
    "cnt3 = Data_Mixed.query('(candidate == \"dmk\")').Text.count()\n",
    "cnt4 = Data_Mixed.query('(candidate == \"aitmc\")').Text.count()\n",
    "cnt5 = Data_Mixed.query('(candidate == \"ysrcp\")').Text.count()\n",
    "cnt6 = Data_Mixed.query('(candidate == \"shivsena\")').Text.count()\n",
    "cnt7 = Data_Mixed.query('(candidate == \"jdu\")').Text.count()\n",
    "cnt8 = Data_Mixed.query('(candidate == \"bjd\")').Text.count()\n",
    "cnt9 = Data_Mixed.query('(candidate == \"bsp\")').Text.count()\n",
    "cnt10= Data_Mixed.query('(candidate == \"trs\")').Text.count()\n",
    "\n",
    "objects = ('BJP', 'Congress', 'DMK', 'AITMC', 'YSRCP', 'Shiv Sena', 'JD(U)', 'BJD', 'BSP', 'TRS')\n",
    "y_pos = np.arange(len(objects))\n",
    "performance = [cnt1, cnt2, cnt3, cnt4, cnt5, cnt6, cnt7, cnt8, cnt9, cnt10]\n",
    "\n",
    "plt.bar(y_pos, performance, align='center', alpha=0.5, width=0.8)\n",
    "plt.xticks(y_pos, objects)\n",
    "plt.ylabel('Number of tweets')\n",
    "plt.title('Partywise Count of Tweets')\n",
    "\n",
    "plt.show()"
   ]
  },
  {
   "cell_type": "code",
   "execution_count": null,
   "metadata": {},
   "outputs": [],
   "source": []
  },
  {
   "cell_type": "code",
   "execution_count": null,
   "metadata": {},
   "outputs": [],
   "source": []
  }
 ],
 "metadata": {
  "kernelspec": {
   "display_name": "Python 3",
   "language": "python",
   "name": "python3"
  },
  "language_info": {
   "codemirror_mode": {
    "name": "ipython",
    "version": 3
   },
   "file_extension": ".py",
   "mimetype": "text/x-python",
   "name": "python",
   "nbconvert_exporter": "python",
   "pygments_lexer": "ipython3",
   "version": "3.7.4"
  }
 },
 "nbformat": 4,
 "nbformat_minor": 2
}
