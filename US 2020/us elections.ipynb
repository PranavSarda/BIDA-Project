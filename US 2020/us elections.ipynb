{
 "cells": [
  {
   "cell_type": "markdown",
   "metadata": {
    "papermill": {
     "duration": 0.037262,
     "end_time": "2020-11-29T15:55:00.580827",
     "exception": false,
     "start_time": "2020-11-29T15:55:00.543565",
     "status": "completed"
    },
    "tags": []
   },
   "source": [
    "# who won in US president elections 2020? according to tweets"
   ]
  },
  {
   "cell_type": "code",
   "execution_count": 1,
   "metadata": {
    "_cell_guid": "b1076dfc-b9ad-4769-8c92-a6c4dae69d19",
    "_uuid": "8f2839f25d086af736a60e9eeb907d3b93b6e0e5",
    "execution": {
     "iopub.execute_input": "2020-11-29T15:55:00.668786Z",
     "iopub.status.busy": "2020-11-29T15:55:00.667956Z",
     "iopub.status.idle": "2020-11-29T15:55:11.319707Z",
     "shell.execute_reply": "2020-11-29T15:55:11.320786Z"
    },
    "papermill": {
     "duration": 10.703318,
     "end_time": "2020-11-29T15:55:11.321035",
     "exception": false,
     "start_time": "2020-11-29T15:55:00.617717",
     "status": "completed"
    },
    "tags": []
   },
   "outputs": [],
   "source": [
    "import numpy as np\n",
    "import pandas as pd\n",
    "import matplotlib.pyplot as plt\n",
    "from textblob import TextBlob\n",
    "import plotly.graph_objects as go\n",
    "import re"
   ]
  },
  {
   "cell_type": "markdown",
   "metadata": {
    "papermill": {
     "duration": 0.040685,
     "end_time": "2020-11-29T15:55:11.403715",
     "exception": false,
     "start_time": "2020-11-29T15:55:11.363030",
     "status": "completed"
    },
    "tags": []
   },
   "source": [
    "# Import datasets"
   ]
  },
  {
   "cell_type": "code",
   "execution_count": 2,
   "metadata": {
    "_cell_guid": "79c7e3d0-c299-4dcb-8224-4455121ee9b0",
    "_uuid": "d629ff2d2480ee46fbb7e2d37f6b5fab8052498a",
    "execution": {
     "iopub.execute_input": "2020-11-29T15:55:11.487091Z",
     "iopub.status.busy": "2020-11-29T15:55:11.486328Z",
     "iopub.status.idle": "2020-11-29T15:55:34.240380Z",
     "shell.execute_reply": "2020-11-29T15:55:34.240969Z"
    },
    "papermill": {
     "duration": 22.801143,
     "end_time": "2020-11-29T15:55:34.241140",
     "exception": false,
     "start_time": "2020-11-29T15:55:11.439997",
     "status": "completed"
    },
    "tags": []
   },
   "outputs": [],
   "source": [
    "trump = pd.read_csv('Archive/hashtag_donaldtrump.csv', lineterminator='\\n')\n",
    "biden = pd.read_csv('Archive/hashtag_joebiden.csv',lineterminator='\\n')"
   ]
  },
  {
   "cell_type": "markdown",
   "metadata": {
    "papermill": {
     "duration": 0.037812,
     "end_time": "2020-11-29T15:55:34.581478",
     "exception": false,
     "start_time": "2020-11-29T15:55:34.543666",
     "status": "completed"
    },
    "tags": []
   },
   "source": [
    "Drop useles columns"
   ]
  },
  {
   "cell_type": "code",
   "execution_count": 3,
   "metadata": {
    "execution": {
     "iopub.execute_input": "2020-11-29T15:55:34.891903Z",
     "iopub.status.busy": "2020-11-29T15:55:34.811474Z",
     "iopub.status.idle": "2020-11-29T15:55:34.997154Z",
     "shell.execute_reply": "2020-11-29T15:55:34.996345Z"
    },
    "papermill": {
     "duration": 0.376786,
     "end_time": "2020-11-29T15:55:34.997299",
     "exception": false,
     "start_time": "2020-11-29T15:55:34.620513",
     "status": "completed"
    },
    "tags": []
   },
   "outputs": [],
   "source": [
    "trump = trump.drop(columns = ['tweet_id','collected_at','user_description','collected_at'])\n",
    "biden = biden.drop(columns = ['tweet_id','collected_at','user_description','collected_at'])"
   ]
  },
  {
   "cell_type": "code",
   "execution_count": 4,
   "metadata": {
    "execution": {
     "iopub.execute_input": "2020-11-29T15:55:35.085254Z",
     "iopub.status.busy": "2020-11-29T15:55:35.084478Z",
     "iopub.status.idle": "2020-11-29T15:55:35.231450Z",
     "shell.execute_reply": "2020-11-29T15:55:35.230547Z"
    },
    "papermill": {
     "duration": 0.192365,
     "end_time": "2020-11-29T15:55:35.231586",
     "exception": false,
     "start_time": "2020-11-29T15:55:35.039221",
     "status": "completed"
    },
    "tags": []
   },
   "outputs": [],
   "source": [
    "trump.loc[:,'candidate'] = 'Trump'\n",
    "biden.loc[:,'candidate'] = 'Biden'"
   ]
  },
  {
   "cell_type": "code",
   "execution_count": 5,
   "metadata": {
    "execution": {
     "iopub.execute_input": "2020-11-29T15:55:36.062765Z",
     "iopub.status.busy": "2020-11-29T15:55:35.507808Z",
     "iopub.status.idle": "2020-11-29T15:55:43.226073Z",
     "shell.execute_reply": "2020-11-29T15:55:43.225418Z"
    },
    "papermill": {
     "duration": 7.955145,
     "end_time": "2020-11-29T15:55:43.226211",
     "exception": false,
     "start_time": "2020-11-29T15:55:35.271066",
     "status": "completed"
    },
    "tags": []
   },
   "outputs": [
    {
     "data": {
      "text/html": [
       "<div>\n",
       "<style scoped>\n",
       "    .dataframe tbody tr th:only-of-type {\n",
       "        vertical-align: middle;\n",
       "    }\n",
       "\n",
       "    .dataframe tbody tr th {\n",
       "        vertical-align: top;\n",
       "    }\n",
       "\n",
       "    .dataframe thead th {\n",
       "        text-align: right;\n",
       "    }\n",
       "</style>\n",
       "<table border=\"1\" class=\"dataframe\">\n",
       "  <thead>\n",
       "    <tr style=\"text-align: right;\">\n",
       "      <th></th>\n",
       "      <th>created_at</th>\n",
       "      <th>tweet</th>\n",
       "      <th>likes</th>\n",
       "      <th>retweet_count</th>\n",
       "      <th>source</th>\n",
       "      <th>user_id</th>\n",
       "      <th>user_name</th>\n",
       "      <th>user_screen_name</th>\n",
       "      <th>user_join_date</th>\n",
       "      <th>user_followers_count</th>\n",
       "      <th>user_location</th>\n",
       "      <th>lat</th>\n",
       "      <th>long</th>\n",
       "      <th>city</th>\n",
       "      <th>country</th>\n",
       "      <th>continent</th>\n",
       "      <th>state</th>\n",
       "      <th>state_code</th>\n",
       "      <th>candidate</th>\n",
       "    </tr>\n",
       "  </thead>\n",
       "  <tbody>\n",
       "    <tr>\n",
       "      <td>0</td>\n",
       "      <td>2020-10-15 00:00:01</td>\n",
       "      <td>#Elecciones2020 | En #Florida: #JoeBiden dice ...</td>\n",
       "      <td>0.0</td>\n",
       "      <td>0.0</td>\n",
       "      <td>TweetDeck</td>\n",
       "      <td>3.606665e+08</td>\n",
       "      <td>El Sol Latino News</td>\n",
       "      <td>elsollatinonews</td>\n",
       "      <td>2011-08-23 15:33:45</td>\n",
       "      <td>1860.0</td>\n",
       "      <td>Philadelphia, PA / Miami, FL</td>\n",
       "      <td>25.774270</td>\n",
       "      <td>-80.193660</td>\n",
       "      <td>NaN</td>\n",
       "      <td>United States of America</td>\n",
       "      <td>North America</td>\n",
       "      <td>Florida</td>\n",
       "      <td>FL</td>\n",
       "      <td>Trump</td>\n",
       "    </tr>\n",
       "    <tr>\n",
       "      <td>1</td>\n",
       "      <td>2020-10-15 00:00:01</td>\n",
       "      <td>Usa 2020, Trump contro Facebook e Twitter: cop...</td>\n",
       "      <td>26.0</td>\n",
       "      <td>9.0</td>\n",
       "      <td>Social Mediaset</td>\n",
       "      <td>3.316176e+08</td>\n",
       "      <td>Tgcom24</td>\n",
       "      <td>MediasetTgcom24</td>\n",
       "      <td>2011-07-08 13:12:20</td>\n",
       "      <td>1067661.0</td>\n",
       "      <td>NaN</td>\n",
       "      <td>NaN</td>\n",
       "      <td>NaN</td>\n",
       "      <td>NaN</td>\n",
       "      <td>NaN</td>\n",
       "      <td>NaN</td>\n",
       "      <td>NaN</td>\n",
       "      <td>NaN</td>\n",
       "      <td>Trump</td>\n",
       "    </tr>\n",
       "    <tr>\n",
       "      <td>2</td>\n",
       "      <td>2020-10-15 00:00:02</td>\n",
       "      <td>#Trump: As a student I used to hear for years,...</td>\n",
       "      <td>2.0</td>\n",
       "      <td>1.0</td>\n",
       "      <td>Twitter Web App</td>\n",
       "      <td>8.436472e+06</td>\n",
       "      <td>snarke</td>\n",
       "      <td>snarke</td>\n",
       "      <td>2007-08-26 05:56:11</td>\n",
       "      <td>1185.0</td>\n",
       "      <td>Portland</td>\n",
       "      <td>45.520247</td>\n",
       "      <td>-122.674195</td>\n",
       "      <td>Portland</td>\n",
       "      <td>United States of America</td>\n",
       "      <td>North America</td>\n",
       "      <td>Oregon</td>\n",
       "      <td>OR</td>\n",
       "      <td>Trump</td>\n",
       "    </tr>\n",
       "    <tr>\n",
       "      <td>3</td>\n",
       "      <td>2020-10-15 00:00:02</td>\n",
       "      <td>2 hours since last tweet from #Trump! Maybe he...</td>\n",
       "      <td>0.0</td>\n",
       "      <td>0.0</td>\n",
       "      <td>Trumpytweeter</td>\n",
       "      <td>8.283556e+17</td>\n",
       "      <td>Trumpytweeter</td>\n",
       "      <td>trumpytweeter</td>\n",
       "      <td>2017-02-05 21:32:17</td>\n",
       "      <td>32.0</td>\n",
       "      <td>NaN</td>\n",
       "      <td>NaN</td>\n",
       "      <td>NaN</td>\n",
       "      <td>NaN</td>\n",
       "      <td>NaN</td>\n",
       "      <td>NaN</td>\n",
       "      <td>NaN</td>\n",
       "      <td>NaN</td>\n",
       "      <td>Trump</td>\n",
       "    </tr>\n",
       "    <tr>\n",
       "      <td>4</td>\n",
       "      <td>2020-10-15 00:00:08</td>\n",
       "      <td>You get a tie! And you get a tie! #Trump ‘s ra...</td>\n",
       "      <td>4.0</td>\n",
       "      <td>3.0</td>\n",
       "      <td>Twitter for iPhone</td>\n",
       "      <td>4.741380e+07</td>\n",
       "      <td>Rana Abtar - رنا أبتر</td>\n",
       "      <td>Ranaabtar</td>\n",
       "      <td>2009-06-15 19:05:35</td>\n",
       "      <td>5393.0</td>\n",
       "      <td>Washington DC</td>\n",
       "      <td>38.894992</td>\n",
       "      <td>-77.036558</td>\n",
       "      <td>Washington</td>\n",
       "      <td>United States of America</td>\n",
       "      <td>North America</td>\n",
       "      <td>District of Columbia</td>\n",
       "      <td>DC</td>\n",
       "      <td>Trump</td>\n",
       "    </tr>\n",
       "  </tbody>\n",
       "</table>\n",
       "</div>"
      ],
      "text/plain": [
       "            created_at                                              tweet  \\\n",
       "0  2020-10-15 00:00:01  #Elecciones2020 | En #Florida: #JoeBiden dice ...   \n",
       "1  2020-10-15 00:00:01  Usa 2020, Trump contro Facebook e Twitter: cop...   \n",
       "2  2020-10-15 00:00:02  #Trump: As a student I used to hear for years,...   \n",
       "3  2020-10-15 00:00:02  2 hours since last tweet from #Trump! Maybe he...   \n",
       "4  2020-10-15 00:00:08  You get a tie! And you get a tie! #Trump ‘s ra...   \n",
       "\n",
       "   likes  retweet_count              source       user_id  \\\n",
       "0    0.0            0.0           TweetDeck  3.606665e+08   \n",
       "1   26.0            9.0    Social Mediaset   3.316176e+08   \n",
       "2    2.0            1.0     Twitter Web App  8.436472e+06   \n",
       "3    0.0            0.0       Trumpytweeter  8.283556e+17   \n",
       "4    4.0            3.0  Twitter for iPhone  4.741380e+07   \n",
       "\n",
       "               user_name user_screen_name       user_join_date  \\\n",
       "0     El Sol Latino News  elsollatinonews  2011-08-23 15:33:45   \n",
       "1                Tgcom24  MediasetTgcom24  2011-07-08 13:12:20   \n",
       "2                 snarke           snarke  2007-08-26 05:56:11   \n",
       "3          Trumpytweeter    trumpytweeter  2017-02-05 21:32:17   \n",
       "4  Rana Abtar - رنا أبتر        Ranaabtar  2009-06-15 19:05:35   \n",
       "\n",
       "   user_followers_count                 user_location        lat        long  \\\n",
       "0                1860.0  Philadelphia, PA / Miami, FL  25.774270  -80.193660   \n",
       "1             1067661.0                           NaN        NaN         NaN   \n",
       "2                1185.0                      Portland  45.520247 -122.674195   \n",
       "3                  32.0                           NaN        NaN         NaN   \n",
       "4                5393.0                 Washington DC  38.894992  -77.036558   \n",
       "\n",
       "         city                   country      continent                 state  \\\n",
       "0         NaN  United States of America  North America               Florida   \n",
       "1         NaN                       NaN            NaN                   NaN   \n",
       "2    Portland  United States of America  North America                Oregon   \n",
       "3         NaN                       NaN            NaN                   NaN   \n",
       "4  Washington  United States of America  North America  District of Columbia   \n",
       "\n",
       "  state_code candidate  \n",
       "0         FL     Trump  \n",
       "1        NaN     Trump  \n",
       "2         OR     Trump  \n",
       "3        NaN     Trump  \n",
       "4         DC     Trump  "
      ]
     },
     "execution_count": 5,
     "metadata": {},
     "output_type": "execute_result"
    }
   ],
   "source": [
    "Data_Mixed = pd.concat([trump,biden])\n",
    "Data_Mixed.sort_values(by='created_at')\n",
    "Data_Mixed.head()"
   ]
  },
  {
   "cell_type": "code",
   "execution_count": 6,
   "metadata": {
    "execution": {
     "iopub.execute_input": "2020-11-29T15:56:34.584886Z",
     "iopub.status.busy": "2020-11-29T15:56:34.583780Z",
     "iopub.status.idle": "2020-11-29T15:56:34.586983Z",
     "shell.execute_reply": "2020-11-29T15:56:34.587529Z"
    },
    "papermill": {
     "duration": 0.067844,
     "end_time": "2020-11-29T15:56:34.587727",
     "exception": false,
     "start_time": "2020-11-29T15:56:34.519883",
     "status": "completed"
    },
    "tags": []
   },
   "outputs": [],
   "source": [
    "def clean(text):\n",
    "    '''Make text lowercase, remove text in square brackets,remove links,remove punctuation\n",
    "    and remove words containing numbers.'''\n",
    "    text = str(text).lower()\n",
    "    text = re.sub('\\[.*?\\]', '', text)\n",
    "    text = re.sub('https?://\\S+|www\\.\\S+', '', text)\n",
    "    text = re.sub('<.*?>+', '', text)\n",
    "    text = re.sub('\\n', '', text)\n",
    "    text = re.sub('\\w*\\d\\w*', '', text)\n",
    "    text=re.sub(r'@[A-Za-z0-9]+','',text)\n",
    "    text=re.sub(r'#','',text)\n",
    "    text=re.sub(r'RT[\\s]+','',text)\n",
    "    text=re.sub(r'[^\\w]', ' ', text)\n",
    "    return text"
   ]
  },
  {
   "cell_type": "code",
   "execution_count": 7,
   "metadata": {
    "execution": {
     "iopub.execute_input": "2020-11-29T15:56:34.700534Z",
     "iopub.status.busy": "2020-11-29T15:56:34.699579Z",
     "iopub.status.idle": "2020-11-29T15:56:34.702212Z",
     "shell.execute_reply": "2020-11-29T15:56:34.702759Z"
    },
    "papermill": {
     "duration": 0.062415,
     "end_time": "2020-11-29T15:56:34.702917",
     "exception": false,
     "start_time": "2020-11-29T15:56:34.640502",
     "status": "completed"
    },
    "tags": []
   },
   "outputs": [],
   "source": [
    "# create fuction to get the subjectivity and polarity\n",
    "def getSubjectivity(text):\n",
    "    return TextBlob(text).sentiment.subjectivity\n",
    "def getPolarity(text):\n",
    "    return TextBlob(text).sentiment.polarity\n",
    "def getAnalysis(score):\n",
    "    if score < 0:\n",
    "        return 'negative'\n",
    "    elif score==0:\n",
    "        return 'neutral'\n",
    "    else:\n",
    "        return 'positive'"
   ]
  },
  {
   "cell_type": "markdown",
   "metadata": {
    "papermill": {
     "duration": 0.050288,
     "end_time": "2020-11-29T15:56:34.803842",
     "exception": false,
     "start_time": "2020-11-29T15:56:34.753554",
     "status": "completed"
    },
    "tags": []
   },
   "source": [
    "# DonaldTrump tweets sentiment analysis"
   ]
  },
  {
   "cell_type": "code",
   "execution_count": 8,
   "metadata": {
    "execution": {
     "iopub.execute_input": "2020-11-29T15:56:34.915710Z",
     "iopub.status.busy": "2020-11-29T15:56:34.914878Z",
     "iopub.status.idle": "2020-11-29T15:56:38.693966Z",
     "shell.execute_reply": "2020-11-29T15:56:38.693169Z"
    },
    "papermill": {
     "duration": 3.840774,
     "end_time": "2020-11-29T15:56:38.694102",
     "exception": false,
     "start_time": "2020-11-29T15:56:34.853328",
     "status": "completed"
    },
    "tags": []
   },
   "outputs": [],
   "source": [
    "Trump_Tweets = Data_Mixed.query('(candidate == \"Trump\")').sort_values('user_followers_count',ascending = False).drop_duplicates(['tweet'])[['tweet','country','likes','retweet_count','source','created_at','continent','state','lat','long','city','candidate']]\n",
    "\n",
    "\n",
    "Trump_Tweets.reset_index(inplace = True, drop = True)\n",
    "\n",
    "Trump_Tweets['ClearTweet'] = Trump_Tweets['tweet'].apply(clean)\n",
    "\n",
    "Trump_Tweets['subjectivity']= Trump_Tweets['ClearTweet'].apply(getSubjectivity)\n",
    "Trump_Tweets['polarity']    = Trump_Tweets['ClearTweet'].apply(getPolarity)\n",
    "Trump_Tweets['analysis']    = Trump_Tweets['polarity'].apply(getAnalysis)\n",
    "\n",
    "Trump_Tweets.head()\n",
    "Trump_Tweets.to_csv('Archive/sent_donaldtrump.csv')"
   ]
  },
  {
   "cell_type": "markdown",
   "metadata": {
    "papermill": {
     "duration": 0.060357,
     "end_time": "2020-11-29T15:56:41.026984",
     "exception": false,
     "start_time": "2020-11-29T15:56:40.966627",
     "status": "completed"
    },
    "tags": []
   },
   "source": [
    "# JoeBiden tweets sentiment analysis"
   ]
  },
  {
   "cell_type": "code",
   "execution_count": 9,
   "metadata": {
    "execution": {
     "iopub.execute_input": "2020-11-29T15:56:41.159856Z",
     "iopub.status.busy": "2020-11-29T15:56:41.159027Z",
     "iopub.status.idle": "2020-11-29T15:56:44.400109Z",
     "shell.execute_reply": "2020-11-29T15:56:44.400745Z"
    },
    "papermill": {
     "duration": 3.310555,
     "end_time": "2020-11-29T15:56:44.400905",
     "exception": false,
     "start_time": "2020-11-29T15:56:41.090350",
     "status": "completed"
    },
    "tags": []
   },
   "outputs": [],
   "source": [
    "Biden_Tweets = Data_Mixed.query('(candidate == \"Biden\")').sort_values('user_followers_count',ascending = False)[['tweet','country','likes','retweet_count','source','created_at','continent','state','lat','long','city','candidate']]\n",
    "\n",
    "Biden_Tweets.reset_index(inplace = True, drop = True)\n",
    "\n",
    "Biden_Tweets['ClearTweet'] = Biden_Tweets['tweet'].apply(clean)\n",
    "\n",
    " \n",
    "Biden_Tweets['subjectivity']= Biden_Tweets['ClearTweet'].apply(getSubjectivity)\n",
    "Biden_Tweets['polarity']    = Biden_Tweets['ClearTweet'].apply(getPolarity)\n",
    "Biden_Tweets['analysis']    = Biden_Tweets['polarity'].apply(getAnalysis)\n",
    "Biden_Tweets.head()\n",
    "\n",
    "Biden_Tweets.to_csv('Archive/sent_biden.csv')"
   ]
  }
 ],
 "metadata": {
  "kernelspec": {
   "display_name": "Python 3",
   "language": "python",
   "name": "python3"
  },
  "language_info": {
   "codemirror_mode": {
    "name": "ipython",
    "version": 3
   },
   "file_extension": ".py",
   "mimetype": "text/x-python",
   "name": "python",
   "nbconvert_exporter": "python",
   "pygments_lexer": "ipython3",
   "version": "3.7.4"
  },
  "papermill": {
   "duration": 113.253549,
   "end_time": "2020-11-29T15:56:48.056929",
   "environment_variables": {},
   "exception": null,
   "input_path": "__notebook__.ipynb",
   "output_path": "__notebook__.ipynb",
   "parameters": {},
   "start_time": "2020-11-29T15:54:54.803380",
   "version": "2.1.0"
  }
 },
 "nbformat": 4,
 "nbformat_minor": 4
}
